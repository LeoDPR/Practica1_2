{
 "cells": [
  {
   "cell_type": "markdown",
   "metadata": {
    "id": "AAfk_4EPvBRx"
   },
   "source": [
    "# M1.2 Practicas"
   ]
  },
  {
   "cell_type": "markdown",
   "metadata": {
    "id": "-3Oja_kavtkw"
   },
   "source": [
    "## 1. Odd or even"
   ]
  },
  {
   "cell_type": "code",
   "execution_count": 1,
   "metadata": {
    "colab": {
     "base_uri": "https://localhost:8080/"
    },
    "id": "MsQ6i1yuul6t",
    "outputId": "12105350-79b6-4257-f850-f51c096242dd"
   },
   "outputs": [
    {
     "name": "stdout",
     "output_type": "stream",
     "text": [
      "What number are you thinking? 78\n",
      "El numero 78 par\n"
     ]
    }
   ],
   "source": [
    "number = int(input(\"What number are you thinking? \"))\n",
    "\n",
    "if number >0 and number <= 1000:\n",
    "\n",
    "  if number%2==0:\n",
    "\n",
    "    print(\"El numero\", number ,\"par\")\n",
    "\n",
    "  else:\n",
    "\n",
    "    print(\"El numero\", number ,\"impar\")\n",
    "\n",
    "else:\n",
    "\n",
    "  print(\"El numero debe ser mayor a 0 y menor a 1000\")"
   ]
  },
  {
   "cell_type": "markdown",
   "metadata": {
    "id": "Fr6iKyIlvxwQ"
   },
   "source": [
    "## 2. Mad Libs Game"
   ]
  },
  {
   "cell_type": "code",
   "execution_count": 3,
   "metadata": {
    "colab": {
     "base_uri": "https://localhost:8080/"
    },
    "id": "aiDuFn_ZvyQ5",
    "outputId": "fc06a960-0e4b-4d13-ea2b-6eb9287954ae"
   },
   "outputs": [
    {
     "name": "stdout",
     "output_type": "stream",
     "text": [
      "Escoge un lugar: Michoacán\n",
      "Escoge un animal: ganso\n",
      "Escoge una parte del cuerpo: dedo\n",
      "------------------------------------------\n",
      "En esta cueva hace mas frio que en el/la  Michoacán .\n",
      "Incluso con la piel del/de la  ganso  no consigo que mi  dedo  deje de tiritar\n",
      "------------------------------------------\n"
     ]
    }
   ],
   "source": [
    "lugar = input(\"Escoge un lugar: \")\n",
    "animal = input(\"Escoge un animal: \")\n",
    "cuerpo = input(\"Escoge una parte del cuerpo: \")\n",
    "\n",
    "# Displays the story based on the users input\n",
    "print (\"------------------------------------------\")\n",
    "print (\"En esta cueva hace mas frio que en el/la \",lugar,\".\\nIncluso con la piel del/de la \",animal,\" no consigo que mi \",cuerpo,\" deje de tiritar\")\n",
    "print (\"------------------------------------------\")"
   ]
  },
  {
   "cell_type": "markdown",
   "metadata": {
    "id": "c54I1p-wvyY4"
   },
   "source": [
    "## 3. Word Count"
   ]
  },
  {
   "cell_type": "code",
   "execution_count": null,
   "metadata": {
    "colab": {
     "base_uri": "https://localhost:8080/"
    },
    "id": "TYsw2L_YvygI",
    "outputId": "a9a5b32a-e0b0-4c90-a791-0129f0e475c5"
   },
   "outputs": [
    {
     "name": "stdout",
     "output_type": "stream",
     "text": [
      "what's on your mind today?uno dos tres cuatro cinco seis siete ocho nueve\n",
      "oh nice, you just told me what's on your mind in 9 words!\n"
     ]
    }
   ],
   "source": [
    "phrase = input(\"what's on your mind today?\")\n",
    "\n",
    "result = len(phrase.split())\n",
    "\n",
    "print(\"oh nice, you just told me what's on your mind in\", str(result) ,\"words!\")"
   ]
  },
  {
   "cell_type": "markdown",
   "metadata": {
    "id": "gTJuBMxMvymo"
   },
   "source": [
    "## 4. Biography info"
   ]
  },
  {
   "cell_type": "code",
   "execution_count": null,
   "metadata": {
    "colab": {
     "base_uri": "https://localhost:8080/"
    },
    "id": "h43IJR7ovytB",
    "outputId": "9fbc9348-d04d-451b-e6d0-a8e7951431a1"
   },
   "outputs": [
    {
     "name": "stdout",
     "output_type": "stream",
     "text": [
      "Cual es tu nombre? Leonardo\n",
      "cual es tu edad 21\n",
      "Cual es tu domicilio? Centro\n",
      "Cuales son tus metas en la vida? Comer\n",
      "Nombre:  Leonardo \n",
      "Edad:  21 \n",
      "Domicilio:  Centro \n",
      "Metas:  Comer\n"
     ]
    }
   ],
   "source": [
    "name = input(\"Cual es tu nombre? \")\n",
    "while not name.isalpha():\n",
    "  name = input(\"Dato invalido, ingresa tu nombre \")\n",
    "age = input(\"cual es tu edad \")\n",
    "while not age.isnumeric():\n",
    "  age = input(\"Dato invalido, ingresa tu edad \")\n",
    "add = input(\"Cual es tu domicilio? \")\n",
    "while len(add) is 0:\n",
    "  add = input(\"No has ingresado un valor, cual es tu domicilio? \")\n",
    "goals = input(\"Cuales son tus metas en la vida? \")\n",
    "while len(goals)==0:\n",
    "  goals = input(\"No has ingresado un valor, dime tus metas \")\n",
    "print(\"Nombre: \",name,\"\\nEdad: \",age,\"\\nDomicilio: \",add,\"\\nMetas: \",goals)"
   ]
  },
  {
   "cell_type": "markdown",
   "metadata": {
    "id": "saa9EXTUvyyW"
   },
   "source": [
    "## 5. What's my acronym?"
   ]
  },
  {
   "cell_type": "code",
   "execution_count": 7,
   "metadata": {
    "id": "le5kL6b_vy3Z"
   },
   "outputs": [
    {
     "name": "stdout",
     "output_type": "stream",
     "text": [
      "Ingresa el nombre de una organizacion piedra papel o tijera\n",
      "Tu acronimo es  PPOT\n"
     ]
    }
   ],
   "source": [
    "org = input(\"Ingresa el nombre de una organizacion \")\n",
    "orgDiv = org.split()\n",
    "acronym = \"\"\n",
    "for word in orgDiv: \n",
    "    acronym += word[0] \n",
    "acronym = acronym.upper() \n",
    "print(\"Tu acronimo es \", acronym)    "
   ]
  },
  {
   "cell_type": "markdown",
   "metadata": {
    "id": "2w3INh8Pvy8w"
   },
   "source": [
    "## 6. Rock, Paper, Scissors"
   ]
  },
  {
   "cell_type": "code",
   "execution_count": 28,
   "metadata": {
    "id": "b5NzbK-QvzBB"
   },
   "outputs": [
    {
     "name": "stdout",
     "output_type": "stream",
     "text": [
      "Elige entre: \n",
      "1]piedra \n",
      "2]papel \n",
      "3]tijeras\n",
      "5\n",
      "Elige una opción válida>:(\n",
      "¿Deseas continuar jugando? S/NS\n",
      "Elige entre: \n",
      "1]piedra \n",
      "2]papel \n",
      "3]tijeras\n",
      "2\n",
      "Elegiste  papel  y la maquina  piedra\n",
      "haha, ganaste!\n",
      "¿Deseas continuar jugando? S/NN\n"
     ]
    }
   ],
   "source": [
    "import random\n",
    "cont = \"s\"\n",
    "while cont.lower() != \"n\":\n",
    "    usuario = int(input(\"Elige entre: \\n1]piedra \\n2]papel \\n3]tijeras\\n\"))\n",
    "    pc = random.randint(1,3)\n",
    "    usuarioAlfa = \"\"\n",
    "    pcAlfa = \"\"\n",
    "\n",
    "    if usuario == 1:\n",
    "        usuarioAlfa = \"piedra\"\n",
    "    elif usuario == 2:\n",
    "        usuarioAlfa = \"papel\"\n",
    "    elif usuario == 3:\n",
    "        usuarioAlfa = \"tijera\"\n",
    "\n",
    "    if pc == 1:\n",
    "        pcAlfa = \"piedra\"\n",
    "    elif pc == 2:\n",
    "        pcAlfa = \"papel\"\n",
    "    elif pc == 3:\n",
    "        pcAlfa = \"tijera\"\n",
    "        \n",
    "    if usuario>0 and usuario<4:\n",
    "        print(\"Elegiste \",usuarioAlfa,\" y la maquina \",pcAlfa)\n",
    "        if usuario == pc:\n",
    "            print(\"Uy, tremendo empate\")\n",
    "        else:\n",
    "            if usuario == 1:\n",
    "                if pc == 2:\n",
    "                    print(\"¡Perdiste! Intentalo de nuevo\")\n",
    "                elif pc == 3:\n",
    "                    print(\"haha, ganaste!\")        \n",
    "            elif usuario == 2:\n",
    "                if pc == 1:\n",
    "                    print(\"haha, ganaste!\")\n",
    "                elif pc == 3:\n",
    "                    print(\"Perdiste! Intentalo de nuevo\")\n",
    "            elif usuario == 3:\n",
    "                if pc == 1:\n",
    "                    print(\"Perdiste! Intentalo de nuevo\")\n",
    "                elif pc == 2:\n",
    "                    print(\"haha, ganaste!\")\n",
    "    else:\n",
    "        print(\"Elige una opción válida>:(\")\n",
    "    cont = input(\"¿Deseas continuar jugando? S/N\")"
   ]
  },
  {
   "cell_type": "markdown",
   "metadata": {
    "id": "S6ZBr6tkvzFz"
   },
   "source": [
    "## 7. Guess the number"
   ]
  },
  {
   "cell_type": "code",
   "execution_count": 27,
   "metadata": {
    "id": "4xlRMoAUvzJ5"
   },
   "outputs": [
    {
     "name": "stdout",
     "output_type": "stream",
     "text": [
      "9\n",
      "Adivina el numero entre 1 y 50...4\n",
      "Numero incorrecto, ¿quieres intentarlo de nuevo?S/N S\n",
      "Adivina el numero entre 1 y 50...3\n",
      "Numero incorrecto, ¿quieres intentarlo de nuevo?S/N N\n"
     ]
    }
   ],
   "source": [
    "import random\n",
    "\n",
    "cont = \"\"\n",
    "numero = random.randint(1, 50)\n",
    "print(numero)\n",
    "while cont.lower() != \"n\":\n",
    "    user_number = int(input(\"Adivina el numero entre 1 y 50...\"))\n",
    "    if user_number > 50 and user_number > 1:\n",
    "        print(\"Estas tonto? Te dije entre 1 y 50\")\n",
    "    elif user_number == numero:\n",
    "        print(\"Felicidades! Es el numero que pensé\")\n",
    "        cont = \"n\"\n",
    "    else:\n",
    "        cont = input(\"Numero incorrecto, ¿quieres intentarlo de nuevo?S/N \")"
   ]
  },
  {
   "cell_type": "markdown",
   "metadata": {
    "id": "RWKNN_vAvzOh"
   },
   "source": [
    "## 8. Is a palindrome"
   ]
  },
  {
   "cell_type": "code",
   "execution_count": 36,
   "metadata": {
    "id": "aKEB5xeRvzTC"
   },
   "outputs": [
    {
     "name": "stdout",
     "output_type": "stream",
     "text": [
      "Escribe la palabra \n",
      "madam\n",
      "La palabra madam es un palindromo\n"
     ]
    }
   ],
   "source": [
    "palabra = input(\"Escribe la palabra \\n\")\n",
    "div = palabra.split()\n",
    "new = \"\"\n",
    "for word in div:\n",
    "    i = len(palabra)\n",
    "    while i != 0:\n",
    "        i = i - 1\n",
    "        new = new + word[i]\n",
    "if new == palabra:\n",
    "    print(\"La palabra\",palabra,\"es un palindromo\")\n",
    "else:\n",
    "    print(\"La palabra\",palabra,\" no es un palindromo\")"
   ]
  },
  {
   "cell_type": "markdown",
   "metadata": {
    "id": "j_6Xrj9VvzYC"
   },
   "source": [
    "## 9. Calculate the tip"
   ]
  },
  {
   "cell_type": "code",
   "execution_count": 37,
   "metadata": {
    "id": "MNacLqpHvzvQ"
   },
   "outputs": [
    {
     "name": "stdout",
     "output_type": "stream",
     "text": [
      "¿Cual es el total de personas?8\n",
      "¿Cual es el total de la cuenta?\n",
      "260\n",
      "Para el 18% serian $ 46.8 lo que suma un total de $ 307 por persona tocaria de $ 38\n",
      "Para el 20% serian $ 52.0 lo que suma un total de $ 312 por persona tocaria de $ 39\n",
      "Para el 25% serian $ 65.0 lo que suma un total de $ 325 por persona tocaria de $ 41\n"
     ]
    }
   ],
   "source": [
    "personas = int(input(\"¿Cual es el total de personas?\"))\n",
    "total = int(input(\"¿Cual es el total de la cuenta?\\n\"))\n",
    "docho = total*.18\n",
    "veinte = total*.20\n",
    "vcinco = total*.25\n",
    "print(\"Para el 18% serian $\",docho,\"lo que suma un total de $\",round(total+docho),\"por persona tocaria de $\",round((total+docho)/personas))\n",
    "print(\"Para el 20% serian $\",veinte,\"lo que suma un total de $\",round(total+veinte),\"por persona tocaria de $\",round((total+veinte)/personas))\n",
    "print(\"Para el 25% serian $\",vcinco,\"lo que suma un total de $\",round(total+vcinco),\"por persona tocaria de $\",round((total+vcinco)/personas))\n"
   ]
  },
  {
   "cell_type": "markdown",
   "metadata": {
    "id": "sztAhYrfwX2A"
   },
   "source": [
    "## 10. Email slicer"
   ]
  },
  {
   "cell_type": "code",
   "execution_count": 72,
   "metadata": {
    "id": "VDUFSSqyvz05"
   },
   "outputs": [
    {
     "name": "stdout",
     "output_type": "stream",
     "text": [
      "Cual es tu correo?: leonardo.pastor@uabc.edu.mx\n",
      "Tu usuario es 'leonardo.pastor' y el nombre de tu dominio es 'uabc.edu.mx'\n"
     ]
    }
   ],
   "source": [
    "email = input(\"Cual es tu correo?: \").strip()\n",
    "\n",
    "user_name = email[:email.index(\"@\")]\n",
    "\n",
    "domain_name = email[email.index(\"@\")+1:]\n",
    "\n",
    "output = \"Tu usuario es '{}' y el nombre de tu dominio es '{}'\".format(user_name,domain_name)\n",
    "\n",
    "print(output)"
   ]
  },
  {
   "cell_type": "markdown",
   "metadata": {
    "id": "ODRB_GktwYU4"
   },
   "source": [
    "## 11. Lyrics generator"
   ]
  },
  {
   "cell_type": "code",
   "execution_count": 68,
   "metadata": {
    "id": "6oUGvkn7wYcf"
   },
   "outputs": [
    {
     "name": "stdout",
     "output_type": "stream",
     "text": [
      "Escribe un artista para buscar:\n",
      "radiohead\n",
      "--------------------------------------------\n",
      "Resultados de la busqueda` radiohead `\n",
      "\n",
      "Paranoid Android by Radiohead\n",
      "Karma Police by Radiohead\n",
      "Everything In Its Right Place by Radiohead\n",
      "\n",
      "Ingresa la letra que quieres mostrar\n",
      "karma police\n",
      "--------------------------------------------\n",
      "Showing Karma Police by Radiohead :\n",
      "\n",
      "Karma police, arrest this man\n",
      "He talks in maths\n",
      "He buzzes like a fridge\n",
      "He's like a detuned radio\n",
      "Karma police, arrest this girl\n",
      "Her Hitler hairdo\n",
      "Is making me feel ill\n",
      "And we have crashed her party...\n"
     ]
    }
   ],
   "source": [
    "artista = input(\"Escribe un artista para buscar:\\n\").lower()\n",
    "print(\"--------------------------------------------\")\n",
    "song= [\"When you were young\",\"Hello you\",\"Paranoid Android\",\"Karma Police\",\"Buddy Holly\",\"Everything In Its Right Place\",\"Fool\",\"Black\",\"Exogenesis: Symphony Part 3 (Redemption)\",\"Showbiz\"],[\"The killers\",\"Arctic Monkeys\",\"Radiohead\",\"Radiohead\",\"Weezer\",\"Radiohead\",\"Boa\",\"Pearl Jam\",\"Muse\",\"Muse\"]\n",
    "\n",
    "lyrics = [\"You sit there in your heartache \\nWaiting on some beautiful boy to \\nTo save you from your old ways \\nYou play forgiveness \\nWatch it now, here he comes  \\nHe doesn't look a thing like \\nJesus But he talks like a gentlemen \\nLike you imagined when you were young \\nCan we climb this mountain? \\nI don't know Higher now than ever before \\nI know we can make it if we take it slow...\", \n",
    "          \"LEGO Napoleon movie \\nWritten in noble gas-filled glass tubes \\nUnderlined in sparks \\nI'll admit it's elaborate for a waking thought \\nVortex to vortex \\nThe business they call show...\",\n",
    "          \"Please could you stop the noise?\\nI'm trying to get some rest\\nFrom all the unborn chicken\\nVoices in my head\\nWhat's that?\\n(I may be paranoid, but not an android)\\nWhat's that?\\n(I may be paranoid, but not an android)...\",\n",
    "          \"Karma police, arrest this man\\nHe talks in maths\\nHe buzzes like a fridge\\nHe's like a detuned radio\\nKarma police, arrest this girl\\nHer Hitler hairdo\\nIs making me feel ill\\nAnd we have crashed her party...\",\n",
    "          \"What's with these homies, dissing my girl?\\nWhy do they gotta front?\\nWhat did we ever do to these guys\\nThat made them so violent?...\",\n",
    "          \"Kid A, Kid A\\nKid A, Kid A\\nEverything\\nEverything\\nEverything\\nEverything\\nIn its right place\\nIn its right place\\nIn its right place\\nIn its right place...\",\n",
    "          \"I was born and raised\\nAs an eastern girl in a western world\\nI was told to choose\\nTo choose to be what I chose to be\\nSpeaking impartially\\nThere doesn't seem to be a place for me\\nBut when I look inside I find\\nA place to run to hide...\",\n",
    "          \"Hey, oh\\nSheets of empty canvas\\nUntouched sheets of clay\\nWere laid spread out before me\\nAs her body once did\\nAll five horizons\\nRevolved around her soul\\nAs the earth to the sun...\",\n",
    "          \"Let's start over again\\nWhy can't we start it over again\\nJust let us start it over again\\nAnd we'll be good\\nThis time we'll get it, mmm get it right\\nIt's the last chance to forgive ourselves\",\n",
    "          \"Controlling my feelings for too long\\nControlling my feelings for too long\\nControlling my feelings for too long\\nControlling my feelings for too long\\nForcing our darkest souls to unfold...\"]\n",
    "print(\"Resultados de la busqueda`\",artista,\"`\\n\")\n",
    "for i in range(len(song[0])):\n",
    "    if artista in song[1][i].lower():\n",
    "        print(song[0][i],\"by\",song[1][i])\n",
    "        \n",
    "selec = input(\"\\nIngresa la letra que quieres mostrar\\n\")\n",
    "print(\"--------------------------------------------\")\n",
    "\n",
    "for i in range(len(lyrics)):\n",
    "    if selec in song[0][i].lower():\n",
    "        print(\"Showing\",song[0][i],\"by\",song[1][i],\":\\n\")\n",
    "        print(lyrics[i])"
   ]
  },
  {
   "cell_type": "code",
   "execution_count": null,
   "metadata": {},
   "outputs": [],
   "source": []
  }
 ],
 "metadata": {
  "colab": {
   "provenance": []
  },
  "kernelspec": {
   "display_name": "Python 3 (ipykernel)",
   "language": "python",
   "name": "python3"
  },
  "language_info": {
   "codemirror_mode": {
    "name": "ipython",
    "version": 3
   },
   "file_extension": ".py",
   "mimetype": "text/x-python",
   "name": "python",
   "nbconvert_exporter": "python",
   "pygments_lexer": "ipython3",
   "version": "3.11.0"
  }
 },
 "nbformat": 4,
 "nbformat_minor": 1
}
